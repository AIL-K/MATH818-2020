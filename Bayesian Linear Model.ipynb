{
 "cells": [
  {
   "cell_type": "markdown",
   "metadata": {},
   "source": [
    "\n"
   ]
  },
  {
   "cell_type": "markdown",
   "metadata": {},
   "source": [
    "## Install dependencies"
   ]
  },
  {
   "cell_type": "code",
   "execution_count": null,
   "metadata": {},
   "outputs": [],
   "source": [
    "!pip install numpy scipy matplotlib"
   ]
  },
  {
   "cell_type": "code",
   "execution_count": null,
   "metadata": {},
   "outputs": [],
   "source": []
  },
  {
   "cell_type": "code",
   "execution_count": null,
   "metadata": {},
   "outputs": [],
   "source": []
  },
  {
   "cell_type": "markdown",
   "metadata": {},
   "source": [
    "## Helper functions"
   ]
  },
  {
   "cell_type": "code",
   "execution_count": 134,
   "metadata": {},
   "outputs": [],
   "source": [
    "import numpy as np\n",
    "import matplotlib.pyplot as plt\n",
    "\n",
    "from scipy import stats\n",
    "\n",
    "\n",
    "def plot_data(x, t, ax=None):\n",
    "    if ax is None:\n",
    "        ax = plt\n",
    "    ax.scatter(x, t, marker='o', c=\"k\", s=20)\n",
    "\n",
    "def plot_truth(x, y, label='Truth', ax=None):\n",
    "    if ax is None:\n",
    "        ax = plt\n",
    "    ax.plot(x, y, 'k--', label=label)\n",
    "\n",
    "def plot_predictive(x, y, std, y_label='Prediction (mean)', std_label='Uncertainty (stdev)', plot_xy_labels=True, ax=None):\n",
    "    y = y.ravel()\n",
    "    std = std.ravel()\n",
    "\n",
    "    if ax is None:\n",
    "        plt.plot(x, y, label=y_label)\n",
    "        plt.fill_between(x.ravel(), y + std, y - std, alpha = 0.5, label=std_label)\n",
    "\n",
    "        if plot_xy_labels:\n",
    "            plt.xlabel('x')\n",
    "            plt.ylabel('y')\n",
    "    else:\n",
    "        ax.plot(x, y, label=y_label)\n",
    "        ax.fill_between(x.ravel(), y + std, y - std, alpha = 0.5, label=std_label)\n",
    "\n",
    "        if plot_xy_labels:\n",
    "            ax.set_xlabel('x')\n",
    "            ax.set_ylabel('y')\n",
    "\n",
    "def plot_posterior_samples(x, ys, plot_xy_labels=True, ax=None):\n",
    "    if ax is None:\n",
    "        plt.plot(x, ys[:, 0], 'r-', alpha=0.5, label='Post. samples')\n",
    "        for i in range(1, ys.shape[1]):\n",
    "            plt.plot(x, ys[:, i], 'r-', alpha=0.5)\n",
    "\n",
    "        if plot_xy_labels:\n",
    "            plt.xlabel('x')\n",
    "            plt.ylabel('y')\n",
    "    else:\n",
    "        ax.plot(x, ys[:, 0], 'r-', alpha=0.5, label='Post. samples')\n",
    "        for i in range(1, ys.shape[1]):\n",
    "            ax.plot(x, ys[:, i], 'r-', alpha=0.5)\n",
    "\n",
    "        if plot_xy_labels:\n",
    "            ax.set_xlabel('x')\n",
    "            ax.set_ylabel('y')\n",
    "\n",
    "\n",
    "def plot_posterior(mean, cov, w0, w1, ax=None):\n",
    "                \n",
    "    resolution = 100\n",
    "\n",
    "    grid_x = grid_y = np.linspace(-1, 1, resolution)\n",
    "    grid_flat = np.dstack(np.meshgrid(grid_x, grid_y)).reshape(-1, 2)\n",
    "\n",
    "    densities = stats.multivariate_normal.pdf(grid_flat, mean=mean.ravel(), cov=cov).reshape(resolution, resolution)\n",
    "    \n",
    "    if ax is None:\n",
    "        plt.imshow(densities, origin='lower', extent=(-1, 1, -1, 1))\n",
    "        plt.scatter(w0, w1, marker='x', c=\"r\", s=20, label='Truth')\n",
    "\n",
    "        plt.xlabel('w0')\n",
    "        plt.ylabel('w1')\n",
    "    else:\n",
    "        ax.imshow(densities, origin='lower', extent=(-1, 1, -1, 1))\n",
    "        ax.scatter(w0, w1, marker='x', c=\"r\", s=20, label='Truth')\n",
    "\n",
    "        ax.set_xlabel('w0')\n",
    "        ax.set_ylabel('w1')\n"
   ]
  },
  {
   "cell_type": "code",
   "execution_count": null,
   "metadata": {},
   "outputs": [],
   "source": []
  },
  {
   "cell_type": "code",
   "execution_count": null,
   "metadata": {},
   "outputs": [],
   "source": []
  },
  {
   "cell_type": "code",
   "execution_count": null,
   "metadata": {},
   "outputs": [],
   "source": []
  },
  {
   "cell_type": "markdown",
   "metadata": {},
   "source": [
    "## Functions"
   ]
  },
  {
   "cell_type": "code",
   "execution_count": 4,
   "metadata": {},
   "outputs": [],
   "source": [
    "def posterior(Phi, t, alpha, beta, return_inverse=False):\n",
    "    \"\"\"Computes mean and covariance matrix of the posterior distribution.\"\"\"\n",
    "    S_N_inv = alpha * np.eye(Phi.shape[1]) + beta * Phi.T.dot(Phi)\n",
    "    S_N = np.linalg.inv(S_N_inv)\n",
    "    m_N = beta * S_N.dot(Phi.T).dot(t)\n",
    "\n",
    "    if return_inverse:\n",
    "        return m_N, S_N, S_N_inv\n",
    "    else:\n",
    "        return m_N, S_N"
   ]
  },
  {
   "cell_type": "code",
   "execution_count": 5,
   "metadata": {},
   "outputs": [],
   "source": [
    "def posterior_predictive(Phi_test, m_N, S_N, beta):\n",
    "    \"\"\"Computes mean and variances of the posterior predictive distribution.\"\"\"\n",
    "    y = Phi_test.dot(m_N)\n",
    "    # Only compute variances (diagonal elements of covariance matrix)\n",
    "    y_var = 1 / beta + np.sum(Phi_test.dot(S_N) * Phi_test, axis=1)\n",
    "    \n",
    "    return y, y_var"
   ]
  },
  {
   "cell_type": "code",
   "execution_count": null,
   "metadata": {},
   "outputs": [],
   "source": []
  },
  {
   "cell_type": "markdown",
   "metadata": {},
   "source": [
    "## Basis function tools"
   ]
  },
  {
   "cell_type": "code",
   "execution_count": 6,
   "metadata": {},
   "outputs": [],
   "source": [
    "def identity_basis_function(x):\n",
    "    return x\n",
    "\n",
    "\n",
    "def gaussian_basis_function(x, mu, sigma=0.1):\n",
    "    return np.exp(-0.5 * (x - mu) ** 2 / sigma ** 2)\n",
    "\n",
    "\n",
    "def polynomial_basis_function(x, power):\n",
    "    return x ** power\n",
    "\n",
    "\n",
    "def expand(x, bf, bf_args=None):\n",
    "    if bf_args is None:\n",
    "        return np.concatenate([np.ones(x.shape), bf(x)], axis=1)\n",
    "    else:\n",
    "        return np.concatenate([np.ones(x.shape)] + [bf(x, bf_arg) for bf_arg in bf_args], axis=1)"
   ]
  },
  {
   "cell_type": "code",
   "execution_count": null,
   "metadata": {},
   "outputs": [],
   "source": []
  },
  {
   "cell_type": "markdown",
   "metadata": {},
   "source": [
    "## Example Data Generator"
   ]
  },
  {
   "cell_type": "code",
   "execution_count": 7,
   "metadata": {},
   "outputs": [],
   "source": [
    "f_w0 = -0.3\n",
    "f_w1 =  0.5\n",
    "\n",
    "\n",
    "def f(X, noise_variance):\n",
    "    '''Linear function plus noise'''\n",
    "    return f_w0 + f_w1 * X + noise(X.shape, noise_variance)\n",
    "\n",
    "def g(X, noise_variance):\n",
    "    '''Sinusoidial function plus noise'''\n",
    "    return 0.5 + np.sin(2 * np.pi * X) + noise(X.shape, noise_variance)\n",
    "\n",
    "def noise(size, variance):\n",
    "    return np.random.normal(scale=np.sqrt(variance), size=size)"
   ]
  },
  {
   "cell_type": "code",
   "execution_count": null,
   "metadata": {},
   "outputs": [],
   "source": []
  },
  {
   "cell_type": "markdown",
   "metadata": {},
   "source": [
    "## Linear Model\n",
    "\n"
   ]
  },
  {
   "cell_type": "code",
   "execution_count": null,
   "metadata": {},
   "outputs": [],
   "source": []
  },
  {
   "cell_type": "code",
   "execution_count": 20,
   "metadata": {},
   "outputs": [],
   "source": [
    "import matplotlib.pyplot as plt\n",
    "%matplotlib inline\n"
   ]
  },
  {
   "cell_type": "code",
   "execution_count": 136,
   "metadata": {},
   "outputs": [],
   "source": [
    "beta = 25.0    # precision of \"noise\" term\n",
    "alpha = 2.0    # \n",
    "\n",
    "# Training dataset sizes (for iterative demo)\n",
    "N_list = list(range(1,21))"
   ]
  },
  {
   "cell_type": "code",
   "execution_count": 137,
   "metadata": {},
   "outputs": [],
   "source": [
    "# Training observations, sampled from [-1, 1)\n",
    "X = np.random.rand(N_list[-1], 1) * 2 - 1\n",
    "# Training target values\n",
    "t = f(X, noise_variance=1/beta)"
   ]
  },
  {
   "cell_type": "code",
   "execution_count": 138,
   "metadata": {},
   "outputs": [
    {
     "data": {
      "image/png": "[encoded data removed]",
      "text/plain": [
       "<Figure size 432x288 with 1 Axes>"
      ]
     },
     "metadata": {
      "needs_background": "light"
     },
     "output_type": "display_data"
    }
   ],
   "source": [
    "plot_data(X,t)"
   ]
  },
  {
   "cell_type": "code",
   "execution_count": 139,
   "metadata": {},
   "outputs": [],
   "source": [
    "# Test observations \n",
    "X_test = np.linspace(-1, 1, 100).reshape(-1, 1)\n",
    "\n",
    "# Function values without noise \n",
    "y_true = f(X_test, noise_variance=0)\n",
    "\n",
    "# \"Design matrix\" of test observations\n",
    "Phi_test = expand(X_test, identity_basis_function)"
   ]
  },
  {
   "cell_type": "code",
   "execution_count": 140,
   "metadata": {},
   "outputs": [],
   "source": [
    "## We won't see \"truth\".\n",
    "# plot_data(X_test, y_true)\n",
    "# Phi_test"
   ]
  },
  {
   "cell_type": "code",
   "execution_count": null,
   "metadata": {},
   "outputs": [],
   "source": []
  },
  {
   "cell_type": "code",
   "execution_count": 141,
   "metadata": {},
   "outputs": [],
   "source": [
    "from IPython.display import display, clear_output\n",
    "from time import sleep"
   ]
  },
  {
   "cell_type": "markdown",
   "metadata": {},
   "source": [
    "### Observed Data Visualization"
   ]
  },
  {
   "cell_type": "code",
   "execution_count": 146,
   "metadata": {},
   "outputs": [
    {
     "data": {
      "image/png": "[encoded data removed]",
      "text/plain": [
       "<Figure size 432x288 with 1 Axes>"
      ]
     },
     "metadata": {
      "needs_background": "light"
     },
     "output_type": "display_data"
    }
   ],
   "source": [
    "fig = plt.figure()\n",
    "ax = fig.add_subplot(1, 1, 1) \n",
    "\n",
    "for i, N in enumerate(N_list):\n",
    "    X_N = X[:N]\n",
    "    t_N = t[:N]\n",
    "    \n",
    "    ax.cla()\n",
    "    ax.set_xlim(-1,1)\n",
    "    ax.scatter(X_N, t_N, marker='o', c=\"k\", s=20)\n",
    "    ax.set_title(f'Observed data (N = {N})\\n')\n",
    "\n",
    "    fig.tight_layout()\n",
    "    display(fig)\n",
    "\n",
    "    sleep(0.5)\n",
    "    clear_output(wait = True)"
   ]
  },
  {
   "cell_type": "markdown",
   "metadata": {},
   "source": [
    "### Posterior Density Visualization"
   ]
  },
  {
   "cell_type": "code",
   "execution_count": null,
   "metadata": {},
   "outputs": [],
   "source": []
  },
  {
   "cell_type": "code",
   "execution_count": 147,
   "metadata": {},
   "outputs": [
    {
     "data": {
      "image/png": "[encoded data removed]",
      "text/plain": [
       "<Figure size 576x288 with 2 Axes>"
      ]
     },
     "metadata": {
      "needs_background": "light"
     },
     "output_type": "display_data"
    }
   ],
   "source": [
    "fig, axs = plt.subplots(nrows=1, ncols=2, figsize=(8,4))\n",
    "\n",
    "for i, N in enumerate(N_list):\n",
    "    X_N = X[:N]\n",
    "    t_N = t[:N]\n",
    "\n",
    "    # Design matrix of training observations\n",
    "    Phi_N = expand(X_N, identity_basis_function)\n",
    "    \n",
    "    # Mean and covariance matrix of posterior\n",
    "    m_N, S_N = posterior(Phi_N, t_N, alpha, beta)\n",
    "       \n",
    "\n",
    "    ax = axs[0]\n",
    "    ax.cla()\n",
    "    ax.set_xlim(-1,1)\n",
    "    ax.scatter(X_N, t_N, marker='o', c=\"k\", s=20)\n",
    "    ax.set_title(f'Observed data (N = {N})\\n')\n",
    "    \n",
    "    ax = axs[1]\n",
    "    ax.cla()\n",
    "    plot_posterior(m_N, S_N, f_w0, f_w1, ax=ax)\n",
    "    ax.set_title(f'Posterior dist. (N = {N})\\n')\n",
    "    ax.legend()\n",
    "    \n",
    "    fig.tight_layout()\n",
    "    display(fig)\n",
    "\n",
    "    sleep(0.5)\n",
    "    clear_output(wait = True)\n"
   ]
  },
  {
   "cell_type": "code",
   "execution_count": null,
   "metadata": {},
   "outputs": [],
   "source": []
  },
  {
   "cell_type": "markdown",
   "metadata": {},
   "source": [
    "## Sampled \"functions\", from posterior distribution"
   ]
  },
  {
   "cell_type": "code",
   "execution_count": 148,
   "metadata": {},
   "outputs": [
    {
     "data": {
      "image/png": "[encoded data removed]",
      "text/plain": [
       "<Figure size 864x288 with 3 Axes>"
      ]
     },
     "metadata": {
      "needs_background": "light"
     },
     "output_type": "display_data"
    }
   ],
   "source": [
    "fig, axs = plt.subplots(nrows=1, ncols=3, figsize=(12,4))\n",
    "\n",
    "for i, N in enumerate(N_list):\n",
    "    X_N = X[:N]\n",
    "    t_N = t[:N]\n",
    "\n",
    "    # Design matrix of training observations\n",
    "    Phi_N = expand(X_N, identity_basis_function)\n",
    "    \n",
    "    # Mean and covariance matrix of posterior\n",
    "    m_N, S_N = posterior(Phi_N, t_N, alpha, beta)\n",
    "\n",
    "    # Draw 5 random weight samples from posterior and compute y values\n",
    "    PS_num = 5\n",
    "    w_samples = np.random.multivariate_normal(m_N.ravel(), S_N, PS_num).T\n",
    "    y_samples = Phi_test.dot(w_samples)\n",
    "    \n",
    "\n",
    "    ax = axs[0]\n",
    "    ax.cla()\n",
    "    ax.set_xlim(-1,1)\n",
    "    ax.set_ylim(-1,1)\n",
    "    ax.scatter(X_N, t_N, marker='o', c=\"k\", s=20)\n",
    "    ax.set_title(f'Observed data (N = {N})\\n')\n",
    "    \n",
    "    ax = axs[1]\n",
    "    ax.cla()\n",
    "    plot_posterior(m_N, S_N, f_w0, f_w1, ax=ax)\n",
    "    ax.set_title(f'Posterior dist. (N = {N})\\n')\n",
    "    ax.legend()\n",
    "    \n",
    "    ax = axs[2]\n",
    "    ax.cla()\n",
    "    plot_data(X_N, t_N, ax=ax)\n",
    "    plot_truth(X_test, y_true, ax=ax)\n",
    "    plot_posterior_samples(X_test, y_samples, ax=ax)\n",
    "    ax.set_xlim(-1,1)\n",
    "    ax.set_ylim(-1,1)\n",
    "    ax.set_title(f'{PS_num} models sampled from posterior\\n')\n",
    "    ax.legend()\n",
    "    \n",
    "    fig.tight_layout()\n",
    "    display(fig)\n",
    "\n",
    "    sleep(0.5)\n",
    "    clear_output(wait = True)\n"
   ]
  },
  {
   "cell_type": "code",
   "execution_count": null,
   "metadata": {},
   "outputs": [],
   "source": []
  },
  {
   "cell_type": "markdown",
   "metadata": {},
   "source": [
    "## Posterior Predictive Model"
   ]
  },
  {
   "cell_type": "code",
   "execution_count": 149,
   "metadata": {},
   "outputs": [
    {
     "data": {
      "image/png": "[encoded data removed]",
      "text/plain": [
       "<Figure size 1152x288 with 4 Axes>"
      ]
     },
     "metadata": {
      "needs_background": "light"
     },
     "output_type": "display_data"
    }
   ],
   "source": [
    "fig, axs = plt.subplots(nrows=1, ncols=4, figsize=(16,4))\n",
    "\n",
    "for i, N in enumerate(N_list):\n",
    "    X_N = X[:N]\n",
    "    t_N = t[:N]\n",
    "\n",
    "    # Design matrix of training observations\n",
    "    Phi_N = expand(X_N, identity_basis_function)\n",
    "    \n",
    "    # Mean and covariance matrix of posterior\n",
    "    m_N, S_N = posterior(Phi_N, t_N, alpha, beta)\n",
    "        \n",
    "    # Draw 5 random weight samples from posterior and compute y values\n",
    "    PS_num = 5\n",
    "    w_samples = np.random.multivariate_normal(m_N.ravel(), S_N, PS_num).T\n",
    "    y_samples = Phi_test.dot(w_samples)\n",
    "    \n",
    "    # Mean and variances of posterior predictive \n",
    "    y, y_var = posterior_predictive(Phi_test, m_N, S_N, beta)\n",
    "\n",
    "\n",
    "    ax = axs[0]\n",
    "    ax.cla()\n",
    "    ax.set_xlim(-1,1)\n",
    "    ax.set_ylim(-1,1)\n",
    "    ax.scatter(X_N, t_N, marker='o', c=\"k\", s=20)\n",
    "    ax.set_title(f'Observed data (N = {N})\\n')\n",
    "    \n",
    "    ax = axs[1]\n",
    "    ax.cla()\n",
    "    plot_posterior(m_N, S_N, f_w0, f_w1, ax=ax)\n",
    "    ax.set_title(f'Posterior dist. (N = {N})\\n')\n",
    "    ax.legend()\n",
    "    \n",
    "    ax = axs[2]\n",
    "    ax.cla()\n",
    "    plot_data(X_N, t_N, ax=ax)\n",
    "    plot_truth(X_test, y_true, ax=ax)\n",
    "    plot_posterior_samples(X_test, y_samples, ax=ax)\n",
    "    ax.set_xlim(-1,1)\n",
    "    ax.set_ylim(-1,1)\n",
    "    ax.set_title(f'{PS_num} models sampled from posterior\\n')\n",
    "    ax.legend()\n",
    "    \n",
    "    ax = axs[3]\n",
    "    ax.cla()\n",
    "    plot_data(X_N, t_N, ax=ax)\n",
    "    plot_truth(X_test, y_true, label=None, ax=ax)\n",
    "    plot_predictive(X_test, y, np.sqrt(y_var), ax=ax)\n",
    "    ax.set_xlim(-1,1)\n",
    "    ax.set_ylim(-1,1)\n",
    "    ax.set_title(f'Posterior predictive (after {N} samples)\\n')\n",
    "    ax.legend()\n",
    "    \n",
    "    fig.tight_layout()\n",
    "    display(fig)\n",
    "\n",
    "    sleep(0.5)\n",
    "    clear_output(wait = True)\n"
   ]
  },
  {
   "cell_type": "code",
   "execution_count": null,
   "metadata": {},
   "outputs": [],
   "source": []
  },
  {
   "cell_type": "code",
   "execution_count": null,
   "metadata": {},
   "outputs": [],
   "source": []
  },
  {
   "cell_type": "code",
   "execution_count": null,
   "metadata": {},
   "outputs": [],
   "source": []
  },
  {
   "cell_type": "code",
   "execution_count": null,
   "metadata": {},
   "outputs": [],
   "source": []
  },
  {
   "cell_type": "code",
   "execution_count": null,
   "metadata": {},
   "outputs": [],
   "source": []
  },
  {
   "cell_type": "code",
   "execution_count": null,
   "metadata": {},
   "outputs": [],
   "source": []
  },
  {
   "cell_type": "code",
   "execution_count": null,
   "metadata": {},
   "outputs": [],
   "source": []
  },
  {
   "cell_type": "code",
   "execution_count": null,
   "metadata": {},
   "outputs": [],
   "source": []
  },
  {
   "cell_type": "code",
   "execution_count": null,
   "metadata": {},
   "outputs": [],
   "source": []
  },
  {
   "cell_type": "code",
   "execution_count": null,
   "metadata": {},
   "outputs": [],
   "source": []
  },
  {
   "cell_type": "code",
   "execution_count": null,
   "metadata": {},
   "outputs": [],
   "source": []
  },
  {
   "cell_type": "code",
   "execution_count": null,
   "metadata": {},
   "outputs": [],
   "source": []
  },
  {
   "cell_type": "code",
   "execution_count": null,
   "metadata": {},
   "outputs": [],
   "source": []
  },
  {
   "cell_type": "code",
   "execution_count": null,
   "metadata": {},
   "outputs": [],
   "source": []
  },
  {
   "cell_type": "code",
   "execution_count": null,
   "metadata": {},
   "outputs": [],
   "source": []
  },
  {
   "cell_type": "code",
   "execution_count": null,
   "metadata": {},
   "outputs": [],
   "source": []
  },
  {
   "cell_type": "code",
   "execution_count": null,
   "metadata": {},
   "outputs": [],
   "source": []
  },
  {
   "cell_type": "code",
   "execution_count": null,
   "metadata": {},
   "outputs": [],
   "source": []
  },
  {
   "cell_type": "code",
   "execution_count": null,
   "metadata": {},
   "outputs": [],
   "source": []
  }
 ],
 "metadata": {
  "kernelspec": {
   "display_name": "Python 3",
   "language": "python",
   "name": "python3"
  },
  "language_info": {
   "codemirror_mode": {
    "name": "ipython",
    "version": 3
   },
   "file_extension": ".py",
   "mimetype": "text/x-python",
   "name": "python",
   "nbconvert_exporter": "python",
   "pygments_lexer": "ipython3",
   "version": "3.6.9"
  }
 },
 "nbformat": 4,
 "nbformat_minor": 2
}
